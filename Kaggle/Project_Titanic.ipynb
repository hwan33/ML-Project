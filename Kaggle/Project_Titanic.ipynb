{
 "nbformat": 4,
 "nbformat_minor": 0,
 "metadata": {
  "colab": {
   "name": "TermProject_Team15.ipynb",
   "provenance": [],
   "collapsed_sections": []
  },
  "kernelspec": {
   "name": "python3",
   "display_name": "Python 3"
  }
 },
 "cells": [
  {
   "cell_type": "code",
   "metadata": {
    "id": "Tn_DlQ4mPdLf",
    "colab": {
     "base_uri": "https://localhost:8080/"
    },
    "outputId": "88f6549a-7f1c-4209-e4ab-0cedf5278e1c"
   },
   "source": [
    "from google.colab import drive\n",
    "drive.mount('/content/drive')"
   ],
   "execution_count": null,
   "outputs": [
    {
     "output_type": "stream",
     "text": [
      "Mounted at /content/drive\n"
     ],
     "name": "stdout"
    }
   ]
  },
  {
   "cell_type": "code",
   "metadata": {
    "id": "bC-_fQqdiapM"
   },
   "source": [
    "import numpy as np\n",
    "import pandas as pd\n",
    "import matplotlib.pyplot as plt\n",
    "import seaborn as sns\n",
    "import warnings\n",
    "warnings.filterwarnings('ignore')\n",
    "\n",
    "#미리보기\n",
    "Train = pd.read_csv('/content/train.csv')\n",
    "Test = pd.read_csv('/content/test.csv')\n",
    "Test_lbl = pd.read_csv('/content/gender_submission.csv')"
   ],
   "execution_count": null,
   "outputs": []
  },
  {
   "cell_type": "code",
   "metadata": {
    "colab": {
     "base_uri": "https://localhost:8080/"
    },
    "id": "f5C3NT-Aj3ri",
    "outputId": "d9853c1b-b100-4d5e-aba2-c0766b945fe8"
   },
   "source": [
    "print(Train.shape)\n",
    "print(Test.shape)\n",
    "print(Test_lbl.shape)"
   ],
   "execution_count": null,
   "outputs": [
    {
     "output_type": "stream",
     "text": [
      "(891, 12)\n",
      "(418, 11)\n",
      "(418, 2)\n"
     ],
     "name": "stdout"
    }
   ]
  },
  {
   "cell_type": "code",
   "metadata": {
    "colab": {
     "base_uri": "https://localhost:8080/",
     "height": 341
    },
    "id": "5wOr0ZUKj980",
    "outputId": "3c815da6-3481-4a4a-ca2d-3b96b0b041a1"
   },
   "source": [
    "Train.head()"
   ],
   "execution_count": null,
   "outputs": [
    {
     "output_type": "execute_result",
     "data": {
      "text/html": [
       "<div>\n",
       "<style scoped>\n",
       "    .dataframe tbody tr th:only-of-type {\n",
       "        vertical-align: middle;\n",
       "    }\n",
       "\n",
       "    .dataframe tbody tr th {\n",
       "        vertical-align: top;\n",
       "    }\n",
       "\n",
       "    .dataframe thead th {\n",
       "        text-align: right;\n",
       "    }\n",
       "</style>\n",
       "<table border=\"1\" class=\"dataframe\">\n",
       "  <thead>\n",
       "    <tr style=\"text-align: right;\">\n",
       "      <th></th>\n",
       "      <th>PassengerId</th>\n",
       "      <th>Survived</th>\n",
       "      <th>Pclass</th>\n",
       "      <th>Name</th>\n",
       "      <th>Sex</th>\n",
       "      <th>Age</th>\n",
       "      <th>SibSp</th>\n",
       "      <th>Parch</th>\n",
       "      <th>Ticket</th>\n",
       "      <th>Fare</th>\n",
       "      <th>Cabin</th>\n",
       "      <th>Embarked</th>\n",
       "    </tr>\n",
       "  </thead>\n",
       "  <tbody>\n",
       "    <tr>\n",
       "      <th>0</th>\n",
       "      <td>1</td>\n",
       "      <td>0</td>\n",
       "      <td>3</td>\n",
       "      <td>Braund, Mr. Owen Harris</td>\n",
       "      <td>male</td>\n",
       "      <td>22.0</td>\n",
       "      <td>1</td>\n",
       "      <td>0</td>\n",
       "      <td>A/5 21171</td>\n",
       "      <td>7.2500</td>\n",
       "      <td>NaN</td>\n",
       "      <td>S</td>\n",
       "    </tr>\n",
       "    <tr>\n",
       "      <th>1</th>\n",
       "      <td>2</td>\n",
       "      <td>1</td>\n",
       "      <td>1</td>\n",
       "      <td>Cumings, Mrs. John Bradley (Florence Briggs Th...</td>\n",
       "      <td>female</td>\n",
       "      <td>38.0</td>\n",
       "      <td>1</td>\n",
       "      <td>0</td>\n",
       "      <td>PC 17599</td>\n",
       "      <td>71.2833</td>\n",
       "      <td>C85</td>\n",
       "      <td>C</td>\n",
       "    </tr>\n",
       "    <tr>\n",
       "      <th>2</th>\n",
       "      <td>3</td>\n",
       "      <td>1</td>\n",
       "      <td>3</td>\n",
       "      <td>Heikkinen, Miss. Laina</td>\n",
       "      <td>female</td>\n",
       "      <td>26.0</td>\n",
       "      <td>0</td>\n",
       "      <td>0</td>\n",
       "      <td>STON/O2. 3101282</td>\n",
       "      <td>7.9250</td>\n",
       "      <td>NaN</td>\n",
       "      <td>S</td>\n",
       "    </tr>\n",
       "    <tr>\n",
       "      <th>3</th>\n",
       "      <td>4</td>\n",
       "      <td>1</td>\n",
       "      <td>1</td>\n",
       "      <td>Futrelle, Mrs. Jacques Heath (Lily May Peel)</td>\n",
       "      <td>female</td>\n",
       "      <td>35.0</td>\n",
       "      <td>1</td>\n",
       "      <td>0</td>\n",
       "      <td>113803</td>\n",
       "      <td>53.1000</td>\n",
       "      <td>C123</td>\n",
       "      <td>S</td>\n",
       "    </tr>\n",
       "    <tr>\n",
       "      <th>4</th>\n",
       "      <td>5</td>\n",
       "      <td>0</td>\n",
       "      <td>3</td>\n",
       "      <td>Allen, Mr. William Henry</td>\n",
       "      <td>male</td>\n",
       "      <td>35.0</td>\n",
       "      <td>0</td>\n",
       "      <td>0</td>\n",
       "      <td>373450</td>\n",
       "      <td>8.0500</td>\n",
       "      <td>NaN</td>\n",
       "      <td>S</td>\n",
       "    </tr>\n",
       "  </tbody>\n",
       "</table>\n",
       "</div>"
      ],
      "text/plain": [
       "   PassengerId  Survived  Pclass  ...     Fare Cabin  Embarked\n",
       "0            1         0       3  ...   7.2500   NaN         S\n",
       "1            2         1       1  ...  71.2833   C85         C\n",
       "2            3         1       3  ...   7.9250   NaN         S\n",
       "3            4         1       1  ...  53.1000  C123         S\n",
       "4            5         0       3  ...   8.0500   NaN         S\n",
       "\n",
       "[5 rows x 12 columns]"
      ]
     },
     "metadata": {
      "tags": []
     },
     "execution_count": 3
    }
   ]
  },
  {
   "cell_type": "code",
   "metadata": {
    "colab": {
     "base_uri": "https://localhost:8080/",
     "height": 237
    },
    "id": "XbZ64GiskFo5",
    "outputId": "452e0df7-e494-447f-8bf9-2c677d4b3dd0"
   },
   "source": [
    "Test.head()"
   ],
   "execution_count": null,
   "outputs": [
    {
     "output_type": "execute_result",
     "data": {
      "text/html": [
       "<div>\n",
       "<style scoped>\n",
       "    .dataframe tbody tr th:only-of-type {\n",
       "        vertical-align: middle;\n",
       "    }\n",
       "\n",
       "    .dataframe tbody tr th {\n",
       "        vertical-align: top;\n",
       "    }\n",
       "\n",
       "    .dataframe thead th {\n",
       "        text-align: right;\n",
       "    }\n",
       "</style>\n",
       "<table border=\"1\" class=\"dataframe\">\n",
       "  <thead>\n",
       "    <tr style=\"text-align: right;\">\n",
       "      <th></th>\n",
       "      <th>PassengerId</th>\n",
       "      <th>Pclass</th>\n",
       "      <th>Name</th>\n",
       "      <th>Sex</th>\n",
       "      <th>Age</th>\n",
       "      <th>SibSp</th>\n",
       "      <th>Parch</th>\n",
       "      <th>Ticket</th>\n",
       "      <th>Fare</th>\n",
       "      <th>Cabin</th>\n",
       "      <th>Embarked</th>\n",
       "    </tr>\n",
       "  </thead>\n",
       "  <tbody>\n",
       "    <tr>\n",
       "      <th>0</th>\n",
       "      <td>892</td>\n",
       "      <td>3</td>\n",
       "      <td>Kelly, Mr. James</td>\n",
       "      <td>male</td>\n",
       "      <td>34.5</td>\n",
       "      <td>0</td>\n",
       "      <td>0</td>\n",
       "      <td>330911</td>\n",
       "      <td>7.8292</td>\n",
       "      <td>NaN</td>\n",
       "      <td>Q</td>\n",
       "    </tr>\n",
       "    <tr>\n",
       "      <th>1</th>\n",
       "      <td>893</td>\n",
       "      <td>3</td>\n",
       "      <td>Wilkes, Mrs. James (Ellen Needs)</td>\n",
       "      <td>female</td>\n",
       "      <td>47.0</td>\n",
       "      <td>1</td>\n",
       "      <td>0</td>\n",
       "      <td>363272</td>\n",
       "      <td>7.0000</td>\n",
       "      <td>NaN</td>\n",
       "      <td>S</td>\n",
       "    </tr>\n",
       "    <tr>\n",
       "      <th>2</th>\n",
       "      <td>894</td>\n",
       "      <td>2</td>\n",
       "      <td>Myles, Mr. Thomas Francis</td>\n",
       "      <td>male</td>\n",
       "      <td>62.0</td>\n",
       "      <td>0</td>\n",
       "      <td>0</td>\n",
       "      <td>240276</td>\n",
       "      <td>9.6875</td>\n",
       "      <td>NaN</td>\n",
       "      <td>Q</td>\n",
       "    </tr>\n",
       "    <tr>\n",
       "      <th>3</th>\n",
       "      <td>895</td>\n",
       "      <td>3</td>\n",
       "      <td>Wirz, Mr. Albert</td>\n",
       "      <td>male</td>\n",
       "      <td>27.0</td>\n",
       "      <td>0</td>\n",
       "      <td>0</td>\n",
       "      <td>315154</td>\n",
       "      <td>8.6625</td>\n",
       "      <td>NaN</td>\n",
       "      <td>S</td>\n",
       "    </tr>\n",
       "    <tr>\n",
       "      <th>4</th>\n",
       "      <td>896</td>\n",
       "      <td>3</td>\n",
       "      <td>Hirvonen, Mrs. Alexander (Helga E Lindqvist)</td>\n",
       "      <td>female</td>\n",
       "      <td>22.0</td>\n",
       "      <td>1</td>\n",
       "      <td>1</td>\n",
       "      <td>3101298</td>\n",
       "      <td>12.2875</td>\n",
       "      <td>NaN</td>\n",
       "      <td>S</td>\n",
       "    </tr>\n",
       "  </tbody>\n",
       "</table>\n",
       "</div>"
      ],
      "text/plain": [
       "   PassengerId  Pclass  ... Cabin Embarked\n",
       "0          892       3  ...   NaN        Q\n",
       "1          893       3  ...   NaN        S\n",
       "2          894       2  ...   NaN        Q\n",
       "3          895       3  ...   NaN        S\n",
       "4          896       3  ...   NaN        S\n",
       "\n",
       "[5 rows x 11 columns]"
      ]
     },
     "metadata": {
      "tags": []
     },
     "execution_count": 4
    }
   ]
  },
  {
   "cell_type": "code",
   "metadata": {
    "colab": {
     "base_uri": "https://localhost:8080/",
     "height": 202
    },
    "id": "EFHKXYVckLPm",
    "outputId": "9017fe79-9e69-4df8-a6ae-e11d0aa590a8"
   },
   "source": [
    "Test_lbl.head()"
   ],
   "execution_count": null,
   "outputs": [
    {
     "output_type": "execute_result",
     "data": {
      "text/html": [
       "<div>\n",
       "<style scoped>\n",
       "    .dataframe tbody tr th:only-of-type {\n",
       "        vertical-align: middle;\n",
       "    }\n",
       "\n",
       "    .dataframe tbody tr th {\n",
       "        vertical-align: top;\n",
       "    }\n",
       "\n",
       "    .dataframe thead th {\n",
       "        text-align: right;\n",
       "    }\n",
       "</style>\n",
       "<table border=\"1\" class=\"dataframe\">\n",
       "  <thead>\n",
       "    <tr style=\"text-align: right;\">\n",
       "      <th></th>\n",
       "      <th>PassengerId</th>\n",
       "      <th>Survived</th>\n",
       "    </tr>\n",
       "  </thead>\n",
       "  <tbody>\n",
       "    <tr>\n",
       "      <th>0</th>\n",
       "      <td>892</td>\n",
       "      <td>0</td>\n",
       "    </tr>\n",
       "    <tr>\n",
       "      <th>1</th>\n",
       "      <td>893</td>\n",
       "      <td>1</td>\n",
       "    </tr>\n",
       "    <tr>\n",
       "      <th>2</th>\n",
       "      <td>894</td>\n",
       "      <td>0</td>\n",
       "    </tr>\n",
       "    <tr>\n",
       "      <th>3</th>\n",
       "      <td>895</td>\n",
       "      <td>0</td>\n",
       "    </tr>\n",
       "    <tr>\n",
       "      <th>4</th>\n",
       "      <td>896</td>\n",
       "      <td>1</td>\n",
       "    </tr>\n",
       "  </tbody>\n",
       "</table>\n",
       "</div>"
      ],
      "text/plain": [
       "   PassengerId  Survived\n",
       "0          892         0\n",
       "1          893         1\n",
       "2          894         0\n",
       "3          895         0\n",
       "4          896         1"
      ]
     },
     "metadata": {
      "tags": []
     },
     "execution_count": 5
    }
   ]
  },
  {
   "cell_type": "code",
   "metadata": {
    "id": "GRT6E_4m1gcj",
    "colab": {
     "base_uri": "https://localhost:8080/"
    },
    "outputId": "01d999e2-8d6b-4608-e1c6-a2d9a64c663e"
   },
   "source": [
    "#결측치 확인\n",
    "Train.isnull().sum()"
   ],
   "execution_count": null,
   "outputs": [
    {
     "output_type": "execute_result",
     "data": {
      "text/plain": [
       "PassengerId      0\n",
       "Survived         0\n",
       "Pclass           0\n",
       "Name             0\n",
       "Sex              0\n",
       "Age            177\n",
       "SibSp            0\n",
       "Parch            0\n",
       "Ticket           0\n",
       "Fare             0\n",
       "Cabin          687\n",
       "Embarked         2\n",
       "dtype: int64"
      ]
     },
     "metadata": {
      "tags": []
     },
     "execution_count": 6
    }
   ]
  },
  {
   "cell_type": "code",
   "metadata": {
    "colab": {
     "base_uri": "https://localhost:8080/"
    },
    "id": "ITBz7sSJkb03",
    "outputId": "162dd490-291b-49e2-e0fb-9071b83ffb52"
   },
   "source": [
    "Test.isnull().sum()"
   ],
   "execution_count": null,
   "outputs": [
    {
     "output_type": "execute_result",
     "data": {
      "text/plain": [
       "PassengerId      0\n",
       "Pclass           0\n",
       "Name             0\n",
       "Sex              0\n",
       "Age             86\n",
       "SibSp            0\n",
       "Parch            0\n",
       "Ticket           0\n",
       "Fare             1\n",
       "Cabin          327\n",
       "Embarked         0\n",
       "dtype: int64"
      ]
     },
     "metadata": {
      "tags": []
     },
     "execution_count": 7
    }
   ]
  },
  {
   "cell_type": "code",
   "metadata": {
    "colab": {
     "base_uri": "https://localhost:8080/",
     "height": 341
    },
    "id": "akPgp_XjpJNe",
    "outputId": "175819d7-6f0a-4c0a-c4f1-0dda1fb3b66b"
   },
   "source": [
    "data = pd.concat([Train, Test])\n",
    "data.head()"
   ],
   "execution_count": null,
   "outputs": [
    {
     "output_type": "execute_result",
     "data": {
      "text/html": [
       "<div>\n",
       "<style scoped>\n",
       "    .dataframe tbody tr th:only-of-type {\n",
       "        vertical-align: middle;\n",
       "    }\n",
       "\n",
       "    .dataframe tbody tr th {\n",
       "        vertical-align: top;\n",
       "    }\n",
       "\n",
       "    .dataframe thead th {\n",
       "        text-align: right;\n",
       "    }\n",
       "</style>\n",
       "<table border=\"1\" class=\"dataframe\">\n",
       "  <thead>\n",
       "    <tr style=\"text-align: right;\">\n",
       "      <th></th>\n",
       "      <th>PassengerId</th>\n",
       "      <th>Survived</th>\n",
       "      <th>Pclass</th>\n",
       "      <th>Name</th>\n",
       "      <th>Sex</th>\n",
       "      <th>Age</th>\n",
       "      <th>SibSp</th>\n",
       "      <th>Parch</th>\n",
       "      <th>Ticket</th>\n",
       "      <th>Fare</th>\n",
       "      <th>Cabin</th>\n",
       "      <th>Embarked</th>\n",
       "    </tr>\n",
       "  </thead>\n",
       "  <tbody>\n",
       "    <tr>\n",
       "      <th>0</th>\n",
       "      <td>1</td>\n",
       "      <td>0.0</td>\n",
       "      <td>3</td>\n",
       "      <td>Braund, Mr. Owen Harris</td>\n",
       "      <td>male</td>\n",
       "      <td>22.0</td>\n",
       "      <td>1</td>\n",
       "      <td>0</td>\n",
       "      <td>A/5 21171</td>\n",
       "      <td>7.2500</td>\n",
       "      <td>NaN</td>\n",
       "      <td>S</td>\n",
       "    </tr>\n",
       "    <tr>\n",
       "      <th>1</th>\n",
       "      <td>2</td>\n",
       "      <td>1.0</td>\n",
       "      <td>1</td>\n",
       "      <td>Cumings, Mrs. John Bradley (Florence Briggs Th...</td>\n",
       "      <td>female</td>\n",
       "      <td>38.0</td>\n",
       "      <td>1</td>\n",
       "      <td>0</td>\n",
       "      <td>PC 17599</td>\n",
       "      <td>71.2833</td>\n",
       "      <td>C85</td>\n",
       "      <td>C</td>\n",
       "    </tr>\n",
       "    <tr>\n",
       "      <th>2</th>\n",
       "      <td>3</td>\n",
       "      <td>1.0</td>\n",
       "      <td>3</td>\n",
       "      <td>Heikkinen, Miss. Laina</td>\n",
       "      <td>female</td>\n",
       "      <td>26.0</td>\n",
       "      <td>0</td>\n",
       "      <td>0</td>\n",
       "      <td>STON/O2. 3101282</td>\n",
       "      <td>7.9250</td>\n",
       "      <td>NaN</td>\n",
       "      <td>S</td>\n",
       "    </tr>\n",
       "    <tr>\n",
       "      <th>3</th>\n",
       "      <td>4</td>\n",
       "      <td>1.0</td>\n",
       "      <td>1</td>\n",
       "      <td>Futrelle, Mrs. Jacques Heath (Lily May Peel)</td>\n",
       "      <td>female</td>\n",
       "      <td>35.0</td>\n",
       "      <td>1</td>\n",
       "      <td>0</td>\n",
       "      <td>113803</td>\n",
       "      <td>53.1000</td>\n",
       "      <td>C123</td>\n",
       "      <td>S</td>\n",
       "    </tr>\n",
       "    <tr>\n",
       "      <th>4</th>\n",
       "      <td>5</td>\n",
       "      <td>0.0</td>\n",
       "      <td>3</td>\n",
       "      <td>Allen, Mr. William Henry</td>\n",
       "      <td>male</td>\n",
       "      <td>35.0</td>\n",
       "      <td>0</td>\n",
       "      <td>0</td>\n",
       "      <td>373450</td>\n",
       "      <td>8.0500</td>\n",
       "      <td>NaN</td>\n",
       "      <td>S</td>\n",
       "    </tr>\n",
       "  </tbody>\n",
       "</table>\n",
       "</div>"
      ],
      "text/plain": [
       "   PassengerId  Survived  Pclass  ...     Fare Cabin  Embarked\n",
       "0            1       0.0       3  ...   7.2500   NaN         S\n",
       "1            2       1.0       1  ...  71.2833   C85         C\n",
       "2            3       1.0       3  ...   7.9250   NaN         S\n",
       "3            4       1.0       1  ...  53.1000  C123         S\n",
       "4            5       0.0       3  ...   8.0500   NaN         S\n",
       "\n",
       "[5 rows x 12 columns]"
      ]
     },
     "metadata": {
      "tags": []
     },
     "execution_count": 8
    }
   ]
  },
  {
   "cell_type": "code",
   "metadata": {
    "colab": {
     "base_uri": "https://localhost:8080/"
    },
    "id": "RaHxFhSTuKjB",
    "outputId": "10f41005-51d3-4c38-9948-6b0c32d0189a"
   },
   "source": [
    "data.shape"
   ],
   "execution_count": null,
   "outputs": [
    {
     "output_type": "execute_result",
     "data": {
      "text/plain": [
       "(1309, 12)"
      ]
     },
     "metadata": {
      "tags": []
     },
     "execution_count": 9
    }
   ]
  },
  {
   "cell_type": "code",
   "metadata": {
    "id": "WR2O9gJi1jON"
   },
   "source": [
    "#Mr. Miss.등 걸러내기\n",
    "data['Title'] = 0\n",
    "\n",
    "for i in Test:\n",
    "  data['Title'] = data.Name.str.extract('([A-Za-z]+)\\.')"
   ],
   "execution_count": null,
   "outputs": []
  },
  {
   "cell_type": "code",
   "metadata": {
    "colab": {
     "base_uri": "https://localhost:8080/",
     "height": 102
    },
    "id": "VWzFgJIgnrbK",
    "outputId": "7df41e77-3888-49ba-e87a-3d75242d1eb0"
   },
   "source": [
    "#성별에따른 성씨 확인\n",
    "pd.crosstab(data.Title, data.Sex).T.style.background_gradient(cmap='plasma')"
   ],
   "execution_count": null,
   "outputs": [
    {
     "output_type": "execute_result",
     "data": {
      "text/html": [
       "<style  type=\"text/css\" >\n",
       "#T_5fd1e5b6_374a_11eb_9e92_0242ac1c0002row0_col0,#T_5fd1e5b6_374a_11eb_9e92_0242ac1c0002row0_col1,#T_5fd1e5b6_374a_11eb_9e92_0242ac1c0002row0_col3,#T_5fd1e5b6_374a_11eb_9e92_0242ac1c0002row0_col5,#T_5fd1e5b6_374a_11eb_9e92_0242ac1c0002row0_col6,#T_5fd1e5b6_374a_11eb_9e92_0242ac1c0002row0_col8,#T_5fd1e5b6_374a_11eb_9e92_0242ac1c0002row0_col9,#T_5fd1e5b6_374a_11eb_9e92_0242ac1c0002row0_col13,#T_5fd1e5b6_374a_11eb_9e92_0242ac1c0002row0_col16,#T_5fd1e5b6_374a_11eb_9e92_0242ac1c0002row0_col17,#T_5fd1e5b6_374a_11eb_9e92_0242ac1c0002row1_col2,#T_5fd1e5b6_374a_11eb_9e92_0242ac1c0002row1_col4,#T_5fd1e5b6_374a_11eb_9e92_0242ac1c0002row1_col7,#T_5fd1e5b6_374a_11eb_9e92_0242ac1c0002row1_col10,#T_5fd1e5b6_374a_11eb_9e92_0242ac1c0002row1_col11,#T_5fd1e5b6_374a_11eb_9e92_0242ac1c0002row1_col12,#T_5fd1e5b6_374a_11eb_9e92_0242ac1c0002row1_col14,#T_5fd1e5b6_374a_11eb_9e92_0242ac1c0002row1_col15{\n",
       "            background-color:  #0d0887;\n",
       "            color:  #f1f1f1;\n",
       "        }#T_5fd1e5b6_374a_11eb_9e92_0242ac1c0002row0_col2,#T_5fd1e5b6_374a_11eb_9e92_0242ac1c0002row0_col4,#T_5fd1e5b6_374a_11eb_9e92_0242ac1c0002row0_col7,#T_5fd1e5b6_374a_11eb_9e92_0242ac1c0002row0_col10,#T_5fd1e5b6_374a_11eb_9e92_0242ac1c0002row0_col11,#T_5fd1e5b6_374a_11eb_9e92_0242ac1c0002row0_col12,#T_5fd1e5b6_374a_11eb_9e92_0242ac1c0002row0_col14,#T_5fd1e5b6_374a_11eb_9e92_0242ac1c0002row0_col15,#T_5fd1e5b6_374a_11eb_9e92_0242ac1c0002row1_col0,#T_5fd1e5b6_374a_11eb_9e92_0242ac1c0002row1_col1,#T_5fd1e5b6_374a_11eb_9e92_0242ac1c0002row1_col3,#T_5fd1e5b6_374a_11eb_9e92_0242ac1c0002row1_col5,#T_5fd1e5b6_374a_11eb_9e92_0242ac1c0002row1_col6,#T_5fd1e5b6_374a_11eb_9e92_0242ac1c0002row1_col8,#T_5fd1e5b6_374a_11eb_9e92_0242ac1c0002row1_col9,#T_5fd1e5b6_374a_11eb_9e92_0242ac1c0002row1_col13,#T_5fd1e5b6_374a_11eb_9e92_0242ac1c0002row1_col16,#T_5fd1e5b6_374a_11eb_9e92_0242ac1c0002row1_col17{\n",
       "            background-color:  #f0f921;\n",
       "            color:  #000000;\n",
       "        }</style><table id=\"T_5fd1e5b6_374a_11eb_9e92_0242ac1c0002\" ><thead>    <tr>        <th class=\"index_name level0\" >Title</th>        <th class=\"col_heading level0 col0\" >Capt</th>        <th class=\"col_heading level0 col1\" >Col</th>        <th class=\"col_heading level0 col2\" >Countess</th>        <th class=\"col_heading level0 col3\" >Don</th>        <th class=\"col_heading level0 col4\" >Dona</th>        <th class=\"col_heading level0 col5\" >Dr</th>        <th class=\"col_heading level0 col6\" >Jonkheer</th>        <th class=\"col_heading level0 col7\" >Lady</th>        <th class=\"col_heading level0 col8\" >Major</th>        <th class=\"col_heading level0 col9\" >Master</th>        <th class=\"col_heading level0 col10\" >Miss</th>        <th class=\"col_heading level0 col11\" >Mlle</th>        <th class=\"col_heading level0 col12\" >Mme</th>        <th class=\"col_heading level0 col13\" >Mr</th>        <th class=\"col_heading level0 col14\" >Mrs</th>        <th class=\"col_heading level0 col15\" >Ms</th>        <th class=\"col_heading level0 col16\" >Rev</th>        <th class=\"col_heading level0 col17\" >Sir</th>    </tr>    <tr>        <th class=\"index_name level0\" >Sex</th>        <th class=\"blank\" ></th>        <th class=\"blank\" ></th>        <th class=\"blank\" ></th>        <th class=\"blank\" ></th>        <th class=\"blank\" ></th>        <th class=\"blank\" ></th>        <th class=\"blank\" ></th>        <th class=\"blank\" ></th>        <th class=\"blank\" ></th>        <th class=\"blank\" ></th>        <th class=\"blank\" ></th>        <th class=\"blank\" ></th>        <th class=\"blank\" ></th>        <th class=\"blank\" ></th>        <th class=\"blank\" ></th>        <th class=\"blank\" ></th>        <th class=\"blank\" ></th>        <th class=\"blank\" ></th>    </tr></thead><tbody>\n",
       "                <tr>\n",
       "                        <th id=\"T_5fd1e5b6_374a_11eb_9e92_0242ac1c0002level0_row0\" class=\"row_heading level0 row0\" >female</th>\n",
       "                        <td id=\"T_5fd1e5b6_374a_11eb_9e92_0242ac1c0002row0_col0\" class=\"data row0 col0\" >0</td>\n",
       "                        <td id=\"T_5fd1e5b6_374a_11eb_9e92_0242ac1c0002row0_col1\" class=\"data row0 col1\" >0</td>\n",
       "                        <td id=\"T_5fd1e5b6_374a_11eb_9e92_0242ac1c0002row0_col2\" class=\"data row0 col2\" >1</td>\n",
       "                        <td id=\"T_5fd1e5b6_374a_11eb_9e92_0242ac1c0002row0_col3\" class=\"data row0 col3\" >0</td>\n",
       "                        <td id=\"T_5fd1e5b6_374a_11eb_9e92_0242ac1c0002row0_col4\" class=\"data row0 col4\" >1</td>\n",
       "                        <td id=\"T_5fd1e5b6_374a_11eb_9e92_0242ac1c0002row0_col5\" class=\"data row0 col5\" >1</td>\n",
       "                        <td id=\"T_5fd1e5b6_374a_11eb_9e92_0242ac1c0002row0_col6\" class=\"data row0 col6\" >0</td>\n",
       "                        <td id=\"T_5fd1e5b6_374a_11eb_9e92_0242ac1c0002row0_col7\" class=\"data row0 col7\" >1</td>\n",
       "                        <td id=\"T_5fd1e5b6_374a_11eb_9e92_0242ac1c0002row0_col8\" class=\"data row0 col8\" >0</td>\n",
       "                        <td id=\"T_5fd1e5b6_374a_11eb_9e92_0242ac1c0002row0_col9\" class=\"data row0 col9\" >0</td>\n",
       "                        <td id=\"T_5fd1e5b6_374a_11eb_9e92_0242ac1c0002row0_col10\" class=\"data row0 col10\" >260</td>\n",
       "                        <td id=\"T_5fd1e5b6_374a_11eb_9e92_0242ac1c0002row0_col11\" class=\"data row0 col11\" >2</td>\n",
       "                        <td id=\"T_5fd1e5b6_374a_11eb_9e92_0242ac1c0002row0_col12\" class=\"data row0 col12\" >1</td>\n",
       "                        <td id=\"T_5fd1e5b6_374a_11eb_9e92_0242ac1c0002row0_col13\" class=\"data row0 col13\" >0</td>\n",
       "                        <td id=\"T_5fd1e5b6_374a_11eb_9e92_0242ac1c0002row0_col14\" class=\"data row0 col14\" >197</td>\n",
       "                        <td id=\"T_5fd1e5b6_374a_11eb_9e92_0242ac1c0002row0_col15\" class=\"data row0 col15\" >2</td>\n",
       "                        <td id=\"T_5fd1e5b6_374a_11eb_9e92_0242ac1c0002row0_col16\" class=\"data row0 col16\" >0</td>\n",
       "                        <td id=\"T_5fd1e5b6_374a_11eb_9e92_0242ac1c0002row0_col17\" class=\"data row0 col17\" >0</td>\n",
       "            </tr>\n",
       "            <tr>\n",
       "                        <th id=\"T_5fd1e5b6_374a_11eb_9e92_0242ac1c0002level0_row1\" class=\"row_heading level0 row1\" >male</th>\n",
       "                        <td id=\"T_5fd1e5b6_374a_11eb_9e92_0242ac1c0002row1_col0\" class=\"data row1 col0\" >1</td>\n",
       "                        <td id=\"T_5fd1e5b6_374a_11eb_9e92_0242ac1c0002row1_col1\" class=\"data row1 col1\" >4</td>\n",
       "                        <td id=\"T_5fd1e5b6_374a_11eb_9e92_0242ac1c0002row1_col2\" class=\"data row1 col2\" >0</td>\n",
       "                        <td id=\"T_5fd1e5b6_374a_11eb_9e92_0242ac1c0002row1_col3\" class=\"data row1 col3\" >1</td>\n",
       "                        <td id=\"T_5fd1e5b6_374a_11eb_9e92_0242ac1c0002row1_col4\" class=\"data row1 col4\" >0</td>\n",
       "                        <td id=\"T_5fd1e5b6_374a_11eb_9e92_0242ac1c0002row1_col5\" class=\"data row1 col5\" >7</td>\n",
       "                        <td id=\"T_5fd1e5b6_374a_11eb_9e92_0242ac1c0002row1_col6\" class=\"data row1 col6\" >1</td>\n",
       "                        <td id=\"T_5fd1e5b6_374a_11eb_9e92_0242ac1c0002row1_col7\" class=\"data row1 col7\" >0</td>\n",
       "                        <td id=\"T_5fd1e5b6_374a_11eb_9e92_0242ac1c0002row1_col8\" class=\"data row1 col8\" >2</td>\n",
       "                        <td id=\"T_5fd1e5b6_374a_11eb_9e92_0242ac1c0002row1_col9\" class=\"data row1 col9\" >61</td>\n",
       "                        <td id=\"T_5fd1e5b6_374a_11eb_9e92_0242ac1c0002row1_col10\" class=\"data row1 col10\" >0</td>\n",
       "                        <td id=\"T_5fd1e5b6_374a_11eb_9e92_0242ac1c0002row1_col11\" class=\"data row1 col11\" >0</td>\n",
       "                        <td id=\"T_5fd1e5b6_374a_11eb_9e92_0242ac1c0002row1_col12\" class=\"data row1 col12\" >0</td>\n",
       "                        <td id=\"T_5fd1e5b6_374a_11eb_9e92_0242ac1c0002row1_col13\" class=\"data row1 col13\" >757</td>\n",
       "                        <td id=\"T_5fd1e5b6_374a_11eb_9e92_0242ac1c0002row1_col14\" class=\"data row1 col14\" >0</td>\n",
       "                        <td id=\"T_5fd1e5b6_374a_11eb_9e92_0242ac1c0002row1_col15\" class=\"data row1 col15\" >0</td>\n",
       "                        <td id=\"T_5fd1e5b6_374a_11eb_9e92_0242ac1c0002row1_col16\" class=\"data row1 col16\" >8</td>\n",
       "                        <td id=\"T_5fd1e5b6_374a_11eb_9e92_0242ac1c0002row1_col17\" class=\"data row1 col17\" >1</td>\n",
       "            </tr>\n",
       "    </tbody></table>"
      ],
      "text/plain": [
       "<pandas.io.formats.style.Styler at 0x7fb656cccef0>"
      ]
     },
     "metadata": {
      "tags": []
     },
     "execution_count": 11
    }
   ]
  },
  {
   "cell_type": "code",
   "metadata": {
    "id": "ltE-xTXu1lT1"
   },
   "source": [
    "#성씨 5개 분류(master는 그대로)\n",
    "data['Title'].replace(['Mlle','Mme','Ms'],['Miss','Miss','Miss'],inplace=True)\n",
    "data['Title'].replace(['Dr','Major','Capt','Sir','Don'],['Mr','Mr','Mr','Mr','Mr'],inplace=True)\n",
    "data['Title'].replace(['Dona','Lady','Countess'],['Mrs','Mrs','Mrs'],inplace=True)\n",
    "data['Title'].replace(['Jonkheer','Col','Rev'],['Other','Other','Other'],inplace=True)"
   ],
   "execution_count": null,
   "outputs": []
  },
  {
   "cell_type": "code",
   "metadata": {
    "id": "gjUg2_Zm1nRv",
    "colab": {
     "base_uri": "https://localhost:8080/"
    },
    "outputId": "e30ceca5-5c91-4383-e941-33cffcca3ad9"
   },
   "source": [
    "#그룹별 평균 나이 확인\n",
    "data.groupby('Title')['Age'].mean()"
   ],
   "execution_count": null,
   "outputs": [
    {
     "output_type": "execute_result",
     "data": {
      "text/plain": [
       "Title\n",
       "Master     5.482642\n",
       "Miss      21.834533\n",
       "Mr        32.545531\n",
       "Mrs       37.046243\n",
       "Other     44.923077\n",
       "Name: Age, dtype: float64"
      ]
     },
     "metadata": {
      "tags": []
     },
     "execution_count": 13
    }
   ]
  },
  {
   "cell_type": "code",
   "metadata": {
    "id": "9UfkEjMf1pqx"
   },
   "source": [
    "#Title 별로 나이 결측값 대입하기\n",
    "data.loc[(data.Title=='Master'),'Age']=data.loc[(data.Title=='Master'),'Age'].fillna(5.482642)\n",
    "data.loc[(data.Title=='Miss'),'Age']=data.loc[(data.Title=='Miss'),'Age'].fillna(21.834533)\n",
    "data.loc[(data.Title=='Mr'),'Age']=data.loc[(data.Title=='Mr'),'Age'].fillna(32.545531)\n",
    "data.loc[(data.Title=='Mrs'),'Age']=data.loc[(data.Title=='Mrs'),'Age'].fillna(37.046243)\n",
    "data.loc[(data.Title=='Other'),'Age']=data.loc[(data.Title=='Other'),'Age'].fillna(44.923077)"
   ],
   "execution_count": null,
   "outputs": []
  },
  {
   "cell_type": "code",
   "metadata": {
    "id": "ngmFldSG1rdj"
   },
   "source": [
    "#Embarked 결측값 대입하기\n",
    "data['Embarked'] = Train['Embarked'].fillna('S')"
   ],
   "execution_count": null,
   "outputs": []
  },
  {
   "cell_type": "markdown",
   "metadata": {
    "id": "hc53J5iHEUwD"
   },
   "source": [
    "##Exploratory data analysis"
   ]
  },
  {
   "cell_type": "code",
   "metadata": {
    "id": "7blIxfNV1tIK",
    "colab": {
     "base_uri": "https://localhost:8080/",
     "height": 441
    },
    "outputId": "6cfa671a-3bdc-45d0-d34f-8c85475a69c7"
   },
   "source": [
    "fig,ax = plt.subplots(2,4,figsize=(10,6))\n",
    "sns.countplot('Survived',data=data,ax=ax[0][0])\n",
    "sns.countplot('Pclass',data=data,ax=ax[0][1])\n",
    "sns.countplot('Sex',data=data,ax=ax[0][2])\n",
    "sns.countplot('SibSp',data=data,ax=ax[1][0])\n",
    "sns.countplot('Parch',data=data,ax=ax[1][1])\n",
    "sns.countplot('Embarked',data=data,ax=ax[1][2])\n",
    "sns.distplot(data['Fare'],kde=True,ax=ax[1][3])\n",
    "\n",
    "plt.tight_layout()"
   ],
   "execution_count": null,
   "outputs": [
    {
     "output_type": "display_data",
     "data": {
      "image/png": "[encoded data removed]",
      "text/plain": [
       "<Figure size 720x432 with 8 Axes>"
      ]
     },
     "metadata": {
      "tags": [],
      "needs_background": "light"
     }
    }
   ]
  },
  {
   "cell_type": "code",
   "metadata": {
    "id": "Km9DZLRo7pHA",
    "colab": {
     "base_uri": "https://localhost:8080/",
     "height": 298
    },
    "outputId": "2ec7ad6a-a1e6-4a92-8ede-3349b213f7bb"
   },
   "source": [
    "sns.barplot(x='Pclass', y='Survived', hue= 'Sex', data=data)\n",
    "#티켓 클래스와 성별 + 생존자 데이터 시각화"
   ],
   "execution_count": null,
   "outputs": [
    {
     "output_type": "execute_result",
     "data": {
      "text/plain": [
       "<matplotlib.axes._subplots.AxesSubplot at 0x7fb654e736d8>"
      ]
     },
     "metadata": {
      "tags": []
     },
     "execution_count": 17
    },
    {
     "output_type": "display_data",
     "data": {
      "image/png": "[encoded data removed]",
      "text/plain": [
       "<Figure size 432x288 with 1 Axes>"
      ]
     },
     "metadata": {
      "tags": [],
      "needs_background": "light"
     }
    }
   ]
  },
  {
   "cell_type": "code",
   "metadata": {
    "id": "jwTKC87F8dsI",
    "colab": {
     "base_uri": "https://localhost:8080/"
    },
    "outputId": "cf6214bb-4331-4c6a-a8a2-21063515441e"
   },
   "source": [
    "data.groupby(['Pclass','Survived'])['Survived'].count()\n",
    "#Ratio of survival in different classes"
   ],
   "execution_count": null,
   "outputs": [
    {
     "output_type": "execute_result",
     "data": {
      "text/plain": [
       "Pclass  Survived\n",
       "1       0.0          80\n",
       "        1.0         136\n",
       "2       0.0          97\n",
       "        1.0          87\n",
       "3       0.0         372\n",
       "        1.0         119\n",
       "Name: Survived, dtype: int64"
      ]
     },
     "metadata": {
      "tags": []
     },
     "execution_count": 18
    }
   ]
  },
  {
   "cell_type": "code",
   "metadata": {
    "id": "2DiUMcPl8hJi",
    "colab": {
     "base_uri": "https://localhost:8080/",
     "height": 320
    },
    "outputId": "e3b1ff31-b329-4f2a-e199-d39a94cfd9a8"
   },
   "source": [
    "f, ax = plt.subplots(1, 2, figsize=(8, 4))\n",
    "data[['Sex', 'Survived']].groupby(['Sex'], as_index=True).mean().plot.bar(ax=ax[0])\n",
    "ax[0].set_title('Survival by Sex')\n",
    "sns.countplot('Sex', hue='Survived', data=data, ax=ax[1])\n",
    "ax[1].set_title('Survival by sex with counts')\n",
    "plt.show()\n",
    "#성별에 따른 생존자 수 및 생존여부"
   ],
   "execution_count": null,
   "outputs": [
    {
     "output_type": "display_data",
     "data": {
      "image/png": "[encoded data removed]",
      "text/plain": [
       "<Figure size 576x288 with 2 Axes>"
      ]
     },
     "metadata": {
      "tags": [],
      "needs_background": "light"
     }
    }
   ]
  },
  {
   "cell_type": "code",
   "metadata": {
    "id": "uD7Hurpk8jNB",
    "colab": {
     "base_uri": "https://localhost:8080/",
     "height": 295
    },
    "outputId": "eb14860e-9926-4077-c034-5a2183341d29"
   },
   "source": [
    "f, ax = plt.subplots(1,2,figsize=(8,4))\n",
    "data['Pclass'].value_counts().plot.bar(ax= ax[0])\n",
    "ax[0].set_title(\"Passenger\")\n",
    "ax[0].set_ylabel(\"Count\")\n",
    "sns.countplot('Pclass',data=data, ax=ax[1])\n",
    "ax[1].set_title(\"# of survivor by class\")\n",
    "plt.show()\n",
    "\n",
    "#Class별 탑승객, Class별 생존한 탑승객 수"
   ],
   "execution_count": null,
   "outputs": [
    {
     "output_type": "display_data",
     "data": {
      "image/png": "[encoded data removed]",
      "text/plain": [
       "<Figure size 576x288 with 2 Axes>"
      ]
     },
     "metadata": {
      "tags": [],
      "needs_background": "light"
     }
    }
   ]
  },
  {
   "cell_type": "code",
   "metadata": {
    "id": "qX-cVkZk8lF3",
    "colab": {
     "base_uri": "https://localhost:8080/",
     "height": 279
    },
    "outputId": "356b6b05-9741-4bf2-db08-249c7bfe9ae1"
   },
   "source": [
    "def make_bins(d, col, factor=2):\n",
    "    rounding = lambda x: np.around(x / factor)\n",
    "    d[col] = d[col].apply(rounding)\n",
    "    return d\n",
    "\n",
    "t = make_bins(data, 'Fare', 10)\n",
    "sns.barplot(x=\"Fare\", y='Survived', data=data);\n",
    "#bin을 만들어서 fare별 생존자 분류 > 비싼 가격에서의 생존률은 일정하지 않다. 낮은 가격일수록 확실히 낮은 생존률은 보인다.\n",
    " \n"
   ],
   "execution_count": null,
   "outputs": [
    {
     "output_type": "display_data",
     "data": {
      "image/png": "[encoded data removed]",
      "text/plain": [
       "<Figure size 432x288 with 1 Axes>"
      ]
     },
     "metadata": {
      "tags": [],
      "needs_background": "light"
     }
    }
   ]
  },
  {
   "cell_type": "code",
   "metadata": {
    "id": "1p7FyDg__vy3",
    "colab": {
     "base_uri": "https://localhost:8080/",
     "height": 279
    },
    "outputId": "71db7b39-c7e6-4385-fe47-071e6f8458a6"
   },
   "source": [
    "sns.barplot(x='Pclass', y='Fare', data=t);\n",
    "#Fare는 Pclass의 또다른 표현에 불과하기에 Fare는 이미 나누어진 3개의 Class로 대체 가능하여, Fare는 제외 가능하다"
   ],
   "execution_count": null,
   "outputs": [
    {
     "output_type": "display_data",
     "data": {
      "image/png": "[encoded data removed]",
      "text/plain": [
       "<Figure size 432x288 with 1 Axes>"
      ]
     },
     "metadata": {
      "tags": [],
      "needs_background": "light"
     }
    }
   ]
  },
  {
   "cell_type": "code",
   "metadata": {
    "id": "R4H1Mwc720PX",
    "colab": {
     "base_uri": "https://localhost:8080/"
    },
    "outputId": "4069c51c-4a51-440a-ab9f-cdd6e6438374"
   },
   "source": [
    "#Age \n",
    "#가장 나이 많은 사람, 가장 나이 적은 사람, 나이 평균 print\n",
    "print('The oldest passenger : {:.1f} Years'.format(data['Age'].max()))\n",
    "print('The youngest passenger : {:.1f} Years'.format(data['Age'].min()))\n",
    "print('Average age of passenger : {:.1f} Years'.format(data['Age'].mean()))"
   ],
   "execution_count": null,
   "outputs": [
    {
     "output_type": "stream",
     "text": [
      "The oldest passenger : 80.0 Years\n",
      "The youngest passenger : 0.2 Years\n",
      "Average age of passenger : 29.9 Years\n"
     ],
     "name": "stdout"
    }
   ]
  },
  {
   "cell_type": "code",
   "metadata": {
    "id": "EQJrsAce3P1i",
    "colab": {
     "base_uri": "https://localhost:8080/",
     "height": 388
    },
    "outputId": "638647ce-5d62-4b29-ffcf-b4a541b80eba"
   },
   "source": [
    "#Histogram of Age according to Survival\n",
    "fig, ax = plt.subplots(1, 1, figsize=(10, 6))\n",
    "sns.kdeplot(data[data['Survived'] == 1]['Age'], ax=ax)\n",
    "sns.kdeplot(data[data['Survived'] == 0]['Age'], ax=ax)\n",
    "plt.legend(['Survived = 1', 'Dead = 0'])\n",
    "plt.show()"
   ],
   "execution_count": null,
   "outputs": [
    {
     "output_type": "display_data",
     "data": {
      "image/png": "[encoded data removed]",
      "text/plain": [
       "<Figure size 720x432 with 1 Axes>"
      ]
     },
     "metadata": {
      "tags": [],
      "needs_background": "light"
     }
    }
   ]
  },
  {
   "cell_type": "markdown",
   "metadata": {
    "id": "leyG8-t53Unx"
   },
   "source": [
    "보다시피, 생존자 중 나이가 어린 경우가 많음을 볼 수 있다."
   ]
  },
  {
   "cell_type": "code",
   "metadata": {
    "id": "cuEhfR7g3Tvr",
    "colab": {
     "base_uri": "https://localhost:8080/",
     "height": 423
    },
    "outputId": "cb4b5c7a-ae0e-454f-896b-fa064b20df98"
   },
   "source": [
    "# Age distribution withing classes\n",
    "#클래스에 따른 나이 분포\n",
    "plt.figure(figsize=(10, 6))\n",
    "data['Age'][data['Pclass'] == 1].plot(kind='kde')\n",
    "data['Age'][data['Pclass'] == 2].plot(kind='kde')\n",
    "data['Age'][data['Pclass'] == 3].plot(kind='kde')\n",
    "plt.xlabel('Age')\n",
    "plt.title('Distribution of Age by Class')\n",
    "plt.legend(['1st Class', '2nd Class', '3rd Class'])"
   ],
   "execution_count": null,
   "outputs": [
    {
     "output_type": "execute_result",
     "data": {
      "text/plain": [
       "<matplotlib.legend.Legend at 0x7fb651ab04a8>"
      ]
     },
     "metadata": {
      "tags": []
     },
     "execution_count": 25
    },
    {
     "output_type": "display_data",
     "data": {
      "image/png": "[encoded data removed]",
      "text/plain": [
       "<Figure size 720x432 with 1 Axes>"
      ]
     },
     "metadata": {
      "tags": [],
      "needs_background": "light"
     }
    }
   ]
  },
  {
   "cell_type": "code",
   "metadata": {
    "id": "jY57TbSb3bFx",
    "colab": {
     "base_uri": "https://localhost:8080/",
     "height": 411
    },
    "outputId": "8fd2ed67-fe1c-430e-8051-3ccb292d4eaf"
   },
   "source": [
    "survival_ratio = []\n",
    "for i in range(1, 80):\n",
    "    survival_ratio.append(data[data['Age'] < i]['Survived'].sum() / len(data[data['Age'] < i]['Survived']))\n",
    "    \n",
    "plt.figure(figsize=(10, 6))\n",
    "plt.plot(survival_ratio)\n",
    "plt.title('Change 0f Survival rate depending on Age', y=1.02)\n",
    "plt.ylabel('Survival rate')\n",
    "plt.xlabel('Range of Age')\n",
    "plt.show()"
   ],
   "execution_count": null,
   "outputs": [
    {
     "output_type": "display_data",
     "data": {
      "image/png": "[encoded data removed]",
      "text/plain": [
       "<Figure size 720x432 with 1 Axes>"
      ]
     },
     "metadata": {
      "tags": [],
      "needs_background": "light"
     }
    }
   ]
  },
  {
   "cell_type": "code",
   "metadata": {
    "id": "A0lep9nh3kBH"
   },
   "source": [
    "#SibSp & Parch\n",
    "#SibSp와 Parch를 합하면 Family가 됨. Family 로 합쳐서 분석\n",
    "data['Family'] = data['SibSp'] + data['Parch'] + 1 # 자신을 포함해야하니 1을 더함\n",
    "#df_test['Family'] = df_test['SibSp'] + df_test['Parch'] + 1 # 자신을 포함해야하니 1을 더함"
   ],
   "execution_count": null,
   "outputs": []
  },
  {
   "cell_type": "code",
   "metadata": {
    "id": "8DDMcNev3qFu",
    "colab": {
     "base_uri": "https://localhost:8080/"
    },
    "outputId": "11fadf02-302c-4890-d7ce-1d5d5ed9e9f5"
   },
   "source": [
    "#최대 최소 Family 수 print\n",
    "print(\"Maximum size of Family: \", data['Family'].max())\n",
    "print(\"Minimum size of Family: \", data['Family'].min())"
   ],
   "execution_count": null,
   "outputs": [
    {
     "output_type": "stream",
     "text": [
      "Maximum size of Family:  11\n",
      "Minimum size of Family:  1\n"
     ],
     "name": "stdout"
    }
   ]
  },
  {
   "cell_type": "code",
   "metadata": {
    "id": "R9qPlP5M3r4o",
    "colab": {
     "base_uri": "https://localhost:8080/",
     "height": 302
    },
    "outputId": "2a2153ee-8b67-412b-8084-e7412c312851"
   },
   "source": [
    "#FamilySize 와 생존 관계를 한번 살펴보면\n",
    "f,ax=plt.subplots(1, 3, figsize=(14,4))\n",
    "sns.countplot('Family', data=data, ax=ax[0])\n",
    "ax[0].set_title('Fig 1. # Of Passengers', y=1.02)\n",
    "\n",
    "sns.countplot('Family', hue='Survived', data=data, ax=ax[1])\n",
    "ax[1].set_title('Fig 2. Survivor depending on FamilySize',  y=1.02)\n",
    "\n",
    "data[['Family', 'Survived']].groupby(['Family'], as_index=True).mean().sort_values(by='Survived', ascending=False).plot.bar(ax=ax[2])\n",
    "ax[2].set_title('Fig 3. Survived rate depending on FamilySize',  y=1.02)\n",
    "\n",
    "plt.subplots_adjust(wspace=0.2, hspace=0.4)\n",
    "plt.show()"
   ],
   "execution_count": null,
   "outputs": [
    {
     "output_type": "display_data",
     "data": {
      "image/png": "[encoded data removed]",
      "text/plain": [
       "<Figure size 1008x288 with 3 Axes>"
      ]
     },
     "metadata": {
      "tags": [],
      "needs_background": "light"
     }
    }
   ]
  },
  {
   "cell_type": "code",
   "metadata": {
    "id": "aEenwvrd4Aej",
    "colab": {
     "base_uri": "https://localhost:8080/",
     "height": 242
    },
    "outputId": "c4723ebe-55e3-463b-f546-f397707116f4"
   },
   "source": [
    "#Embarked\n",
    "f, ax = plt.subplots(1, 1, figsize=(4, 3))\n",
    "data[['Embarked', 'Survived']].groupby(['Embarked'], as_index=True).mean().sort_values(by='Survived', ascending=False).plot.bar(ax=ax)"
   ],
   "execution_count": null,
   "outputs": [
    {
     "output_type": "execute_result",
     "data": {
      "text/plain": [
       "<matplotlib.axes._subplots.AxesSubplot at 0x7fb6519a4400>"
      ]
     },
     "metadata": {
      "tags": []
     },
     "execution_count": 30
    },
    {
     "output_type": "display_data",
     "data": {
      "image/png": "[encoded data removed]",
      "text/plain": [
       "<Figure size 288x216 with 1 Axes>"
      ]
     },
     "metadata": {
      "tags": [],
      "needs_background": "light"
     }
    }
   ]
  },
  {
   "cell_type": "code",
   "metadata": {
    "id": "9mASgQPa4FTB",
    "colab": {
     "base_uri": "https://localhost:8080/",
     "height": 295
    },
    "outputId": "8b6ff87c-7779-442b-b4a8-cbbe4cbc2f6c"
   },
   "source": [
    "f,ax=plt.subplots(1, 3, figsize=(14,4))\n",
    "sns.countplot('Embarked', data=data, ax=ax[0])\n",
    "ax[0].set_title('Fig.1 # Of Passengers Boarded')\n",
    "sns.countplot('Embarked', hue='Sex', data=data, ax=ax[1])\n",
    "ax[1].set_title('Fig 2. Embarked vs Survived')\n",
    "sns.countplot('Embarked', hue='Pclass', data=data, ax=ax[2])\n",
    "ax[2].set_title('Fig 3. Embarked vs Pclass')\n",
    "plt.subplots_adjust(wspace=0.2, hspace=0.4)\n",
    "plt.show()"
   ],
   "execution_count": null,
   "outputs": [
    {
     "output_type": "display_data",
     "data": {
      "image/png": "[encoded data removed]",
      "text/plain": [
       "<Figure size 1008x288 with 3 Axes>"
      ]
     },
     "metadata": {
      "tags": [],
      "needs_background": "light"
     }
    }
   ]
  },
  {
   "cell_type": "markdown",
   "metadata": {
    "id": "m4h9artcuftP"
   },
   "source": [
    "##Feature Engineering"
   ]
  },
  {
   "cell_type": "code",
   "metadata": {
    "id": "Te2iiBZs_SCq"
   },
   "source": [
    "#Converting String to Numerical Values\n",
    "data['Sex'] = data['Sex'].astype(str)\n",
    "data['Embarked'] = data['Embarked'].astype(str)\n",
    "data['Sex'].replace(['male','female'],[0,1],inplace=True)\n",
    "data['Embarked'].replace(['S','C','Q'],[0,1,2],inplace=True)\n",
    "data['Embarked'] = data['Embarked'].apply(pd.to_numeric)\n",
    "data['Embarked'].astype(int)\n",
    "data['Title'].replace(['Mr','Mrs','Miss','Master','Other'],[0,1,2,3,4],inplace=True)"
   ],
   "execution_count": null,
   "outputs": []
  },
  {
   "cell_type": "code",
   "metadata": {
    "colab": {
     "base_uri": "https://localhost:8080/",
     "height": 656
    },
    "id": "r-DXOOs90Ypp",
    "outputId": "a8d8e0bb-95ac-4993-9028-d982bcc35837"
   },
   "source": [
    "df=data.copy()\n",
    "df.drop(['Name','Age','Ticket','Fare','Cabin','PassengerId'],axis=1,inplace=True)\n",
    "sns.heatmap(df.corr(),annot=True,cmap='RdYlGn',linewidths=0.2,annot_kws={'size':20})\n",
    "fig=plt.gcf()\n",
    "fig.set_size_inches(10,10)\n",
    "plt.xticks(fontsize=14)\n",
    "plt.yticks(fontsize=14)\n",
    "plt.show()"
   ],
   "execution_count": null,
   "outputs": [
    {
     "output_type": "display_data",
     "data": {
      "image/png": "[encoded data removed]",
      "text/plain": [
       "<Figure size 720x720 with 2 Axes>"
      ]
     },
     "metadata": {
      "tags": [],
      "needs_background": "light"
     }
    }
   ]
  },
  {
   "cell_type": "markdown",
   "metadata": {
    "id": "lVPNJbXb1GT8"
   },
   "source": [
    "From the Correlation plot we can see that SibSp and Parch are well correlated Family Size.\n",
    "We can drop SibSp and Parch and keep only family size."
   ]
  },
  {
   "cell_type": "code",
   "metadata": {
    "colab": {
     "base_uri": "https://localhost:8080/",
     "height": 202
    },
    "id": "Eg-CBj4V097X",
    "outputId": "f38fba87-2139-405f-aa17-0e2a809b008c"
   },
   "source": [
    "df.drop(['SibSp','Parch'],axis=1,inplace=True)\n",
    "df.head()"
   ],
   "execution_count": null,
   "outputs": [
    {
     "output_type": "execute_result",
     "data": {
      "text/html": [
       "<div>\n",
       "<style scoped>\n",
       "    .dataframe tbody tr th:only-of-type {\n",
       "        vertical-align: middle;\n",
       "    }\n",
       "\n",
       "    .dataframe tbody tr th {\n",
       "        vertical-align: top;\n",
       "    }\n",
       "\n",
       "    .dataframe thead th {\n",
       "        text-align: right;\n",
       "    }\n",
       "</style>\n",
       "<table border=\"1\" class=\"dataframe\">\n",
       "  <thead>\n",
       "    <tr style=\"text-align: right;\">\n",
       "      <th></th>\n",
       "      <th>Survived</th>\n",
       "      <th>Pclass</th>\n",
       "      <th>Sex</th>\n",
       "      <th>Embarked</th>\n",
       "      <th>Title</th>\n",
       "      <th>Family</th>\n",
       "    </tr>\n",
       "  </thead>\n",
       "  <tbody>\n",
       "    <tr>\n",
       "      <th>0</th>\n",
       "      <td>0.0</td>\n",
       "      <td>3</td>\n",
       "      <td>0</td>\n",
       "      <td>0</td>\n",
       "      <td>0</td>\n",
       "      <td>2</td>\n",
       "    </tr>\n",
       "    <tr>\n",
       "      <th>1</th>\n",
       "      <td>1.0</td>\n",
       "      <td>1</td>\n",
       "      <td>1</td>\n",
       "      <td>1</td>\n",
       "      <td>1</td>\n",
       "      <td>2</td>\n",
       "    </tr>\n",
       "    <tr>\n",
       "      <th>2</th>\n",
       "      <td>1.0</td>\n",
       "      <td>3</td>\n",
       "      <td>1</td>\n",
       "      <td>0</td>\n",
       "      <td>2</td>\n",
       "      <td>1</td>\n",
       "    </tr>\n",
       "    <tr>\n",
       "      <th>3</th>\n",
       "      <td>1.0</td>\n",
       "      <td>1</td>\n",
       "      <td>1</td>\n",
       "      <td>0</td>\n",
       "      <td>1</td>\n",
       "      <td>2</td>\n",
       "    </tr>\n",
       "    <tr>\n",
       "      <th>4</th>\n",
       "      <td>0.0</td>\n",
       "      <td>3</td>\n",
       "      <td>0</td>\n",
       "      <td>0</td>\n",
       "      <td>0</td>\n",
       "      <td>1</td>\n",
       "    </tr>\n",
       "  </tbody>\n",
       "</table>\n",
       "</div>"
      ],
      "text/plain": [
       "   Survived  Pclass  Sex  Embarked  Title  Family\n",
       "0       0.0       3    0         0      0       2\n",
       "1       1.0       1    1         1      1       2\n",
       "2       1.0       3    1         0      2       1\n",
       "3       1.0       1    1         0      1       2\n",
       "4       0.0       3    0         0      0       1"
      ]
     },
     "metadata": {
      "tags": []
     },
     "execution_count": 34
    }
   ]
  },
  {
   "cell_type": "code",
   "metadata": {
    "colab": {
     "base_uri": "https://localhost:8080/"
    },
    "id": "bh_yZ2K01O3Y",
    "outputId": "f8939dca-c31a-453a-9f43-c13e1c0f83e5"
   },
   "source": [
    "df.isnull().sum()"
   ],
   "execution_count": null,
   "outputs": [
    {
     "output_type": "execute_result",
     "data": {
      "text/plain": [
       "Survived    418\n",
       "Pclass        0\n",
       "Sex           0\n",
       "Embarked      0\n",
       "Title         0\n",
       "Family        0\n",
       "dtype: int64"
      ]
     },
     "metadata": {
      "tags": []
     },
     "execution_count": 35
    }
   ]
  },
  {
   "cell_type": "markdown",
   "metadata": {
    "id": "HRf_GiV2DZjE"
   },
   "source": [
    "##Modeling"
   ]
  },
  {
   "cell_type": "code",
   "metadata": {
    "id": "4KZP24z4stOk"
   },
   "source": [
    "Train = df[:891]\n",
    "Test = df[891:]\n",
    "\n",
    "Train_lbl=Train.copy()\n",
    "Train_lbl.drop(['Pclass','Sex','Embarked','Title', 'Family'],axis=1,inplace=True)\n",
    "Train.drop(['Survived'],axis=1,inplace=True)\n",
    "Test.drop(['Survived'],axis=1,inplace=True)\n",
    "Test_lbl.drop(['PassengerId'],axis=1,inplace=True)"
   ],
   "execution_count": null,
   "outputs": []
  },
  {
   "cell_type": "code",
   "metadata": {
    "id": "cnV9FAWk_O8P"
   },
   "source": [
    "from sklearn.model_selection import train_test_split\n",
    "train, Val, train_lbl, Val_lbl = train_test_split(Train, Train_lbl, test_size=0.1, random_state=42)"
   ],
   "execution_count": null,
   "outputs": []
  },
  {
   "cell_type": "code",
   "metadata": {
    "colab": {
     "base_uri": "https://localhost:8080/"
    },
    "id": "oyKWa1UneTXz",
    "outputId": "3795f32e-9e56-4e38-e250-c54a4c4d3809"
   },
   "source": [
    "# SGD Classifier\n",
    "from sklearn.linear_model import SGDClassifier\n",
    "from sklearn.metrics import accuracy_score\n",
    "SGD_model = SGDClassifier()\n",
    "SGD_model.fit(train, train_lbl)\n",
    "\n",
    "pred_SGD = SGD_model.predict(Val)\n",
    "accuracy_score(Val_lbl,pred_SGD)"
   ],
   "execution_count": null,
   "outputs": [
    {
     "output_type": "execute_result",
     "data": {
      "text/plain": [
       "0.7444444444444445"
      ]
     },
     "metadata": {
      "tags": []
     },
     "execution_count": 38
    }
   ]
  },
  {
   "cell_type": "code",
   "metadata": {
    "colab": {
     "base_uri": "https://localhost:8080/"
    },
    "id": "TDuDzZDZeVDy",
    "outputId": "2e88affc-3c57-453b-9a29-e4acf46e8ecc"
   },
   "source": [
    "# Naive Bayes Classifier\n",
    "from sklearn.naive_bayes import GaussianNB\n",
    "NB_model = GaussianNB()\n",
    "NB_model.fit(train, train_lbl)\n",
    "\n",
    "pred_NB = NB_model.predict(Val)\n",
    "accuracy_score(Val_lbl,pred_NB)"
   ],
   "execution_count": null,
   "outputs": [
    {
     "output_type": "execute_result",
     "data": {
      "text/plain": [
       "0.8111111111111111"
      ]
     },
     "metadata": {
      "tags": []
     },
     "execution_count": 39
    }
   ]
  },
  {
   "cell_type": "code",
   "metadata": {
    "colab": {
     "base_uri": "https://localhost:8080/"
    },
    "id": "tkrBAm4yeRvn",
    "outputId": "b356f441-8fd2-4e47-bf1e-f5b59ee8a500"
   },
   "source": [
    "# Random Forest Classifier\n",
    "from sklearn.ensemble import RandomForestClassifier\n",
    "forest_model=RandomForestClassifier()\n",
    "forest_model.fit(train, train_lbl)\n",
    "\n",
    "pred_forest = forest_model.predict(Val)\n",
    "accuracy_score(Val_lbl,pred_forest)"
   ],
   "execution_count": null,
   "outputs": [
    {
     "output_type": "execute_result",
     "data": {
      "text/plain": [
       "0.8333333333333334"
      ]
     },
     "metadata": {
      "tags": []
     },
     "execution_count": 40
    }
   ]
  },
  {
   "cell_type": "code",
   "metadata": {
    "colab": {
     "base_uri": "https://localhost:8080/"
    },
    "id": "LPkX0wjOeWs4",
    "outputId": "9d8ef5a6-d816-4c30-c9a2-5b54466bf926"
   },
   "source": [
    "# Linear Support Vector Machine(Linear-SVM)\n",
    "from sklearn.svm import LinearSVC\n",
    "SVC_model = LinearSVC()\n",
    "SVC_model.fit(train, train_lbl)\n",
    "\n",
    "pred_SVC = SVC_model.predict(Val)\n",
    "accuracy_score(Val_lbl,pred_SVC)"
   ],
   "execution_count": null,
   "outputs": [
    {
     "output_type": "execute_result",
     "data": {
      "text/plain": [
       "0.8"
      ]
     },
     "metadata": {
      "tags": []
     },
     "execution_count": 41
    }
   ]
  },
  {
   "cell_type": "code",
   "metadata": {
    "colab": {
     "base_uri": "https://localhost:8080/"
    },
    "id": "uQhWDibKC2NU",
    "outputId": "71c2b24a-30e4-4615-fc73-2176474963a2"
   },
   "source": [
    "from sklearn.neighbors import KNeighborsClassifier\n",
    "best_knn = []\n",
    "for n in range(1,10):\n",
    "    knn = KNeighborsClassifier(n_neighbors=n)\n",
    "    knn.fit(train, train_lbl)\n",
    "    best_knn.insert(n, knn.score(Val,Val_lbl))\n",
    "best_knn"
   ],
   "execution_count": null,
   "outputs": [
    {
     "output_type": "execute_result",
     "data": {
      "text/plain": [
       "[0.8111111111111111,\n",
       " 0.8444444444444444,\n",
       " 0.8111111111111111,\n",
       " 0.8333333333333334,\n",
       " 0.8333333333333334,\n",
       " 0.8555555555555555,\n",
       " 0.8333333333333334,\n",
       " 0.8555555555555555,\n",
       " 0.8444444444444444]"
      ]
     },
     "metadata": {
      "tags": []
     },
     "execution_count": 42
    }
   ]
  },
  {
   "cell_type": "code",
   "metadata": {
    "colab": {
     "base_uri": "https://localhost:8080/",
     "height": 295
    },
    "id": "P2iz1Mi_LEUB",
    "outputId": "02e55514-1879-48a8-9a65-540a024126ba"
   },
   "source": [
    "plt.plot(range(1, 10), best_knn, marker='o')\n",
    "plt.title('Best K-Value')\n",
    "plt.xlabel('k-value')\n",
    "plt.ylabel('score')\n",
    "plt.show()"
   ],
   "execution_count": null,
   "outputs": [
    {
     "output_type": "display_data",
     "data": {
      "image/png": "[encoded data removed]",
      "text/plain": [
       "<Figure size 432x288 with 1 Axes>"
      ]
     },
     "metadata": {
      "tags": [],
      "needs_background": "light"
     }
    }
   ]
  },
  {
   "cell_type": "code",
   "metadata": {
    "colab": {
     "base_uri": "https://localhost:8080/"
    },
    "id": "h0luwdccJwzK",
    "outputId": "bc3a54dd-9d90-4e02-f35b-5105d4473c5a"
   },
   "source": [
    "KNN_model = KNeighborsClassifier(n_neighbors=6)\n",
    "KNN_model.fit(train, train_lbl)\n",
    "print(\"Accuracy: \", KNN_model.score(Val,Val_lbl))"
   ],
   "execution_count": null,
   "outputs": [
    {
     "output_type": "stream",
     "text": [
      "Accuracy:  0.8555555555555555\n"
     ],
     "name": "stdout"
    }
   ]
  },
  {
   "cell_type": "code",
   "metadata": {
    "colab": {
     "base_uri": "https://localhost:8080/",
     "height": 202
    },
    "id": "Z-gCxIodBAEJ",
    "outputId": "9faea7dc-5579-430e-87b5-cdb7e3b05dc9"
   },
   "source": [
    "from sklearn.model_selection import KFold\n",
    "from sklearn.model_selection import cross_val_score\n",
    "from sklearn.model_selection import cross_val_predict\n",
    "\n",
    "kfold = KFold(n_splits=10, random_state=22)\n",
    "xyz=[]\n",
    "accuracy=[]\n",
    "std=[]\n",
    "classifiers=['SGD','Naive Bayes','Random Forest','SVC','KNN']\n",
    "models=[SGDClassifier(),\n",
    "        GaussianNB(),\n",
    "        RandomForestClassifier(),\n",
    "        LinearSVC(),\n",
    "        KNeighborsClassifier(n_neighbors=6)]\n",
    "\n",
    "for i in models:\n",
    "    model = i\n",
    "    cv_result=cross_val_score(model,Train,Train_lbl, cv = kfold,scoring = \"accuracy\")\n",
    "    cv_result=cv_result\n",
    "    xyz.append(cv_result.mean())\n",
    "    std.append(cv_result.std())\n",
    "    accuracy.append(cv_result)\n",
    "new_models_dataframe2=pd.DataFrame({'CV Mean':xyz,'Std':std},index=classifiers)       \n",
    "new_models_dataframe2"
   ],
   "execution_count": null,
   "outputs": [
    {
     "output_type": "execute_result",
     "data": {
      "text/html": [
       "<div>\n",
       "<style scoped>\n",
       "    .dataframe tbody tr th:only-of-type {\n",
       "        vertical-align: middle;\n",
       "    }\n",
       "\n",
       "    .dataframe tbody tr th {\n",
       "        vertical-align: top;\n",
       "    }\n",
       "\n",
       "    .dataframe thead th {\n",
       "        text-align: right;\n",
       "    }\n",
       "</style>\n",
       "<table border=\"1\" class=\"dataframe\">\n",
       "  <thead>\n",
       "    <tr style=\"text-align: right;\">\n",
       "      <th></th>\n",
       "      <th>CV Mean</th>\n",
       "      <th>Std</th>\n",
       "    </tr>\n",
       "  </thead>\n",
       "  <tbody>\n",
       "    <tr>\n",
       "      <th>SGD</th>\n",
       "      <td>0.644032</td>\n",
       "      <td>0.164663</td>\n",
       "    </tr>\n",
       "    <tr>\n",
       "      <th>Naive Bayes</th>\n",
       "      <td>0.814806</td>\n",
       "      <td>0.038712</td>\n",
       "    </tr>\n",
       "    <tr>\n",
       "      <th>Random Forest</th>\n",
       "      <td>0.811498</td>\n",
       "      <td>0.042887</td>\n",
       "    </tr>\n",
       "    <tr>\n",
       "      <th>SVC</th>\n",
       "      <td>0.791261</td>\n",
       "      <td>0.036895</td>\n",
       "    </tr>\n",
       "    <tr>\n",
       "      <th>KNN</th>\n",
       "      <td>0.819376</td>\n",
       "      <td>0.043236</td>\n",
       "    </tr>\n",
       "  </tbody>\n",
       "</table>\n",
       "</div>"
      ],
      "text/plain": [
       "                CV Mean       Std\n",
       "SGD            0.644032  0.164663\n",
       "Naive Bayes    0.814806  0.038712\n",
       "Random Forest  0.811498  0.042887\n",
       "SVC            0.791261  0.036895\n",
       "KNN            0.819376  0.043236"
      ]
     },
     "metadata": {
      "tags": []
     },
     "execution_count": 45
    }
   ]
  },
  {
   "cell_type": "code",
   "metadata": {
    "colab": {
     "base_uri": "https://localhost:8080/"
    },
    "id": "kahCxiUSxZVt",
    "outputId": "5494676e-3a98-4f62-bd5a-00b5822abf79"
   },
   "source": [
    "pred1 = SGD_model.predict(Test)\n",
    "accuracy_score(Test_lbl,pred1)"
   ],
   "execution_count": null,
   "outputs": [
    {
     "output_type": "execute_result",
     "data": {
      "text/plain": [
       "0.8516746411483254"
      ]
     },
     "metadata": {
      "tags": []
     },
     "execution_count": 46
    }
   ]
  },
  {
   "cell_type": "code",
   "metadata": {
    "colab": {
     "base_uri": "https://localhost:8080/"
    },
    "id": "peNGtU3ny-GN",
    "outputId": "4721e081-ee9f-4b4b-cc96-34b32a4519f6"
   },
   "source": [
    "pred2 = NB_model.predict(Test)\n",
    "accuracy_score(Test_lbl,pred2)"
   ],
   "execution_count": null,
   "outputs": [
    {
     "output_type": "execute_result",
     "data": {
      "text/plain": [
       "0.9401913875598086"
      ]
     },
     "metadata": {
      "tags": []
     },
     "execution_count": 47
    }
   ]
  },
  {
   "cell_type": "code",
   "metadata": {
    "colab": {
     "base_uri": "https://localhost:8080/"
    },
    "id": "RjBkPJkEzFyO",
    "outputId": "ecfb3870-e002-4cb3-b880-9609f501adba"
   },
   "source": [
    "pred3 = forest_model.predict(Test)\n",
    "accuracy_score(Test_lbl,pred3)"
   ],
   "execution_count": null,
   "outputs": [
    {
     "output_type": "execute_result",
     "data": {
      "text/plain": [
       "0.8588516746411483"
      ]
     },
     "metadata": {
      "tags": []
     },
     "execution_count": 48
    }
   ]
  },
  {
   "cell_type": "code",
   "metadata": {
    "colab": {
     "base_uri": "https://localhost:8080/"
    },
    "id": "jF1V6RlFzMUV",
    "outputId": "8ff2eaaa-a86f-4426-b2d7-6c61217b7f75"
   },
   "source": [
    "pred4 = SVC_model.predict(Test)\n",
    "accuracy_score(Test_lbl,pred4)"
   ],
   "execution_count": null,
   "outputs": [
    {
     "output_type": "execute_result",
     "data": {
      "text/plain": [
       "0.9688995215311005"
      ]
     },
     "metadata": {
      "tags": []
     },
     "execution_count": 49
    }
   ]
  },
  {
   "cell_type": "code",
   "metadata": {
    "colab": {
     "base_uri": "https://localhost:8080/"
    },
    "id": "gY6SyaBuzTTV",
    "outputId": "0b842f37-1ebf-4a6d-c30b-5d83bcab5af6"
   },
   "source": [
    "pred5 = KNN_model.predict(Test)\n",
    "accuracy_score(Test_lbl,pred5)"
   ],
   "execution_count": null,
   "outputs": [
    {
     "output_type": "execute_result",
     "data": {
      "text/plain": [
       "0.8253588516746412"
      ]
     },
     "metadata": {
      "tags": []
     },
     "execution_count": 50
    }
   ]
  }
 ]
}